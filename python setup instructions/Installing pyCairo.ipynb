{
 "cells": [
  {
   "attachments": {},
   "cell_type": "markdown",
   "id": "627d71e2",
   "metadata": {},
   "source": [
    "# Installing pyCairo (for the Canvas API)"
   ]
  },
  {
   "attachments": {},
   "cell_type": "markdown",
   "id": "3c30f669",
   "metadata": {},
   "source": [
    "From the terminal, first make sure you have the environment for the class activated:\n",
    "```\n",
    "conda activate dmlap\n",
    "```\n",
    "Then install with\n",
    "```\n",
    "conda install -c conda-forge pycairo\n",
    "```"
   ]
  }
 ],
 "metadata": {
  "kernelspec": {
   "display_name": "Python 3",
   "language": "python",
   "name": "python3"
  },
  "language_info": {
   "codemirror_mode": {
    "name": "ipython",
    "version": 3
   },
   "file_extension": ".py",
   "mimetype": "text/x-python",
   "name": "python",
   "nbconvert_exporter": "python",
   "pygments_lexer": "ipython3",
   "version": "3.11.1"
  },
  "vscode": {
   "interpreter": {
    "hash": "5c7b89af1651d0b8571dde13640ecdccf7d5a6204171d6ab33e7c296e100e08a"
   }
  }
 },
 "nbformat": 4,
 "nbformat_minor": 5
}
