{
 "cells": [
  {
   "attachments": {},
   "cell_type": "markdown",
   "id": "627d71e2",
   "metadata": {},
   "source": [
    "# Installing Tensorflow/Keras"
   ]
  },
  {
   "attachments": {},
   "cell_type": "markdown",
   "id": "3c30f669",
   "metadata": {},
   "source": [
    "### Option A: If you are an M1 Mac user:\n",
    "\n",
    "If this is your first time using tensorflow, you need to follow these instructions:\n",
    "\n",
    "1. Open a terminal window\n",
    "2. Activate your conda environment, e.g. by typing `conda activate dmlap`\n",
    "3. Install tensorflow dependencies for Mac by typing `conda install -c apple tensorflow-deps`\n",
    "4. Install the Mac OS version of tensorflow by typing `python -m pip install tensorflow-macos==2.9`\n",
    "5. Install tensorflow-metal by typing `python -m pip install tensorflow-metal==0.5.0`\n",
    "6. Close this notebook. Kill the current notebook process using Ctrl+C (or just closing all terminal windows). Then open a new terminal and launch a new notebook using the `jupyter notebook` command\n",
    "\n",
    "Then continue on where it says \"Everyone Continue here\".\n",
    "\n",
    "### Option B: If you are NOT an M1 Mac user:\n",
    "\n",
    "Run `!pip install tensorflow` in the cell below or `pip install tensorflow` in the terminal."
   ]
  },
  {
   "cell_type": "code",
   "execution_count": null,
   "id": "8612b5dd",
   "metadata": {},
   "outputs": [],
   "source": [
    "!pip install tensorflow"
   ]
  },
  {
   "attachments": {},
   "cell_type": "markdown",
   "id": "e984ffca",
   "metadata": {},
   "source": [
    "### Everyone Continue here\n",
    "\n",
    "Run `!pip install keras` in the cell below or `pip install keras` in the terminal."
   ]
  },
  {
   "cell_type": "code",
   "execution_count": null,
   "id": "0eac7b08",
   "metadata": {},
   "outputs": [],
   "source": [
    "!pip install keras"
   ]
  }
 ],
 "metadata": {
  "kernelspec": {
   "display_name": "Python 3 (ipykernel)",
   "language": "python",
   "name": "python3"
  },
  "language_info": {
   "codemirror_mode": {
    "name": "ipython",
    "version": 3
   },
   "file_extension": ".py",
   "mimetype": "text/x-python",
   "name": "python",
   "nbconvert_exporter": "python",
   "pygments_lexer": "ipython3",
   "version": "3.8.15"
  },
  "vscode": {
   "interpreter": {
    "hash": "0933a3de2cf080904afa28ad0cf0619c10754b388d0b3455891742dca248a3a1"
   }
  }
 },
 "nbformat": 4,
 "nbformat_minor": 5
}
