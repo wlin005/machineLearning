{
 "cells": [
  {
   "attachments": {},
   "cell_type": "markdown",
   "metadata": {},
   "source": [
    "# Training a simple model on the MNIST dataset\n",
    "\n",
    "In this notebook we are going to get familiar with using a deep learning library like Tensorflow to train a simple neural network. The network will be trained on the [MNIST dataset](http://yann.lecun.com/exdb/mnist/) which contains small images of handwritten numerical digits. By the end of this training, the model should be able to accurately classify images with numerical digits.\n",
    "\n",
    "Training a network on the MNIST dataset has become the 'hello world' of machine learning. \n",
    "\n",
    "This notebook is based on a notebook originally by [fchollet](https://twitter.com/fchollet) - the original creator of Keras.\n",
    "\n",
    "### Installing TensorFlow / Keras\n",
    "\n",
    "If you haven't installed TensorFlow and Keras, follow the instructions in [python setup instructions](https://github.com/colormotor/DMLAP/tree/main/python%20setup%20instructions).\n",
    "\n",
    "### Setting up for Google Colab (Collab only!)\n",
    "On Google Colab you will need to execute the following cells"
   ]
  },
  {
   "cell_type": "code",
   "execution_count": null,
   "metadata": {},
   "outputs": [],
   "source": [
    "!pip install pyyaml h5py  # Required to save models in HDF5 format\n",
    "!wget https://raw.githubusercontent.com/colormotor/DMLAP/main/python/images.zip # Get required image files\n",
    "!unzip images.zip"
   ]
  },
  {
   "attachments": {},
   "cell_type": "markdown",
   "metadata": {},
   "source": [
    "But to use the model created by this notebook in another, you will need to either manually download/upload the model file, or setup your notebook to mount a Google drive. For the latter option you can find instructions on the web, for example [here](https://towardsdatascience.com/different-ways-to-connect-google-drive-to-a-google-colab-notebook-pt-1-de03433d2f7a)."
   ]
  },
  {
   "attachments": {},
   "cell_type": "markdown",
   "metadata": {},
   "source": [
    "\n",
    "### Importing TensorFlow / Keras"
   ]
  },
  {
   "cell_type": "code",
   "execution_count": 1,
   "metadata": {},
   "outputs": [],
   "source": [
    "import numpy as np\n",
    "from tensorflow import keras\n",
    "from tensorflow.keras import layers"
   ]
  },
  {
   "cell_type": "markdown",
   "metadata": {},
   "source": [
    "### Preparing the dataset\n",
    "\n",
    "The code in the following cell:\n",
    "\n",
    "- defines the number of classes for digits (0-9)\n",
    "\n",
    "- defines the size of the input data (grayscale images 28x28 pixels)\n",
    "\n",
    "- loads the MNIST dataset using the utils functions in Keras\n",
    "\n",
    "- prepares the data for training. When training neural networks it is important the ensure that the size of the dataset is the same as the size of the input of the model, otherwise things will quickly break!\n",
    "\n",
    "- converts class vectors to binary class matrices using the [utils functions in Keras](https://keras.io/api/utils/python_utils/#to_categorical-function)\n",
    "\n",
    "**Things to try out:**\n",
    "\n",
    "- Print the first item of x_train before and after you convert the array from uint8 (8-bit integers) to float32 (32-bit floats) \n",
    "- Print the first 10 items of y_train before and after you convert them to matrices"
   ]
  },
  {
   "cell_type": "code",
   "execution_count": 2,
   "metadata": {},
   "outputs": [
    {
     "name": "stdout",
     "output_type": "stream",
     "text": [
      "x_train shape: (60000, 28, 28, 1)\n",
      "60000 train samples\n",
      "10000 test samples\n"
     ]
    }
   ],
   "source": [
    "# Model / data parameters\n",
    "num_classes = 10\n",
    "input_shape = (28, 28, 1)\n",
    "\n",
    "# Load the data and split it between train and test sets\n",
    "(x_train, y_train), (x_test, y_test) = keras.datasets.mnist.load_data()\n",
    "\n",
    "# Scale images to the [0, 1] range\n",
    "x_train = x_train.astype(\"float32\") / 255\n",
    "x_test = x_test.astype(\"float32\") / 255\n",
    "\n",
    "# Make sure images have shape (28, 28, 1)\n",
    "# Expand dimensions from (60000, 28, 28) to (60000, 28, 28, 1). \n",
    "# axis = -1 is adding one more axis to the array\n",
    "x_train = np.expand_dims(x_train, -1)\n",
    "x_test = np.expand_dims(x_test, -1)\n",
    "print(\"x_train shape:\", x_train.shape)\n",
    "print(x_train.shape[0], \"train samples\")\n",
    "print(x_test.shape[0], \"test samples\")\n",
    "\n",
    "# convert class vectors to binary class matrices\n",
    "y_train = keras.utils.to_categorical(y_train, num_classes)\n",
    "y_test = keras.utils.to_categorical(y_test, num_classes)"
   ]
  },
  {
   "cell_type": "markdown",
   "metadata": {},
   "source": [
    "### Building the model\n",
    "\n",
    "This next section of code is where we build the neural network model, by defining the model in the class `Keras.Sequential` we are defining the *order* in which one layer connects to another, which is how we tell TensorFlow which part of the network connects to the next.\n",
    "\n",
    "This network combines convolutional and pooling layers in the first several layers of the network (see clarifications below), with a dense layer in the end (Dense ~ the Keras term for fully connected). \n",
    "\n",
    "The output of the network is a vector of 10, the same as the number of classes we are classifying. Each one of these units represents a prediction of how likely the network predicts the input digit as being that class. We use the class with the highest confidence as the prediction from the model. \n",
    "\n",
    "**Helpful clarifications:**\n",
    "\n",
    "- Convolutions are used as an extremely powerful tool for pattern recognition.\n",
    "\n",
    "- Kernels are integers or tuples of 2 integers, specifying the height and width of the 2D convolution window, i.e. the window by which we examine a subset of the image.\n",
    "\n",
    "- We can use different kernel sizes when we perform convolutions.\n",
    "\n",
    "- The size of the kernel will determine how big the patterns are that we can detect with our convolution operation.\n",
    "\n",
    "- A deep CNN has convolutional layers stacked on top of each other. Each layer is made up of lots of different feature extractors, responding to different kinds of patterns. The output(s) of one layer becomes the input(s) to the next one.\n",
    "\n",
    "- Max-pooling is used to downsample the output information from one convolutional layer to the next one (by dividing the output matrix into windows and taking the maximum value in the window).\n",
    "\n",
    "- Flattening is converting the data into a 1-dimensional array for inputting it to the next layer. We flatten the output of the convolutional layers to create a single long feature vector.\n",
    "\n",
    "- The Dropout layer randomly sets input units to 0 with a frequency of rate at each step during training time, which helps prevent overfitting.\n",
    "\n",
    "- Th softmax function is used to give us a probability distribution (probabilities that add up to 1) over classes for our input.\n",
    "\n",
    "- 'None' in the output shapes means any batch size."
   ]
  },
  {
   "cell_type": "code",
   "execution_count": 3,
   "metadata": {},
   "outputs": [
    {
     "name": "stdout",
     "output_type": "stream",
     "text": [
      "Model: \"sequential\"\n",
      "_________________________________________________________________\n",
      " Layer (type)                Output Shape              Param #   \n",
      "=================================================================\n",
      " conv2d (Conv2D)             (None, 26, 26, 32)        320       \n",
      "                                                                 \n",
      " max_pooling2d (MaxPooling2D  (None, 13, 13, 32)       0         \n",
      " )                                                               \n",
      "                                                                 \n",
      " conv2d_1 (Conv2D)           (None, 11, 11, 64)        18496     \n",
      "                                                                 \n",
      " max_pooling2d_1 (MaxPooling  (None, 5, 5, 64)         0         \n",
      " 2D)                                                             \n",
      "                                                                 \n",
      " flatten (Flatten)           (None, 1600)              0         \n",
      "                                                                 \n",
      " dropout (Dropout)           (None, 1600)              0         \n",
      "                                                                 \n",
      " dense (Dense)               (None, 10)                16010     \n",
      "                                                                 \n",
      "=================================================================\n",
      "Total params: 34,826\n",
      "Trainable params: 34,826\n",
      "Non-trainable params: 0\n",
      "_________________________________________________________________\n"
     ]
    }
   ],
   "source": [
    "model = keras.Sequential(\n",
    "    [\n",
    "        keras.Input(shape=input_shape),\n",
    "        layers.Conv2D(32, kernel_size=(3, 3), activation=\"relu\"),\n",
    "        layers.MaxPooling2D(pool_size=(2, 2)),\n",
    "        layers.Conv2D(64, kernel_size=(3, 3), activation=\"relu\"),\n",
    "        layers.MaxPooling2D(pool_size=(2, 2)),\n",
    "        layers.Flatten(),\n",
    "        layers.Dropout(0.5),\n",
    "        layers.Dense(num_classes, activation=\"softmax\"),\n",
    "    ]\n",
    ")\n",
    "\n",
    "model.summary()"
   ]
  },
  {
   "cell_type": "markdown",
   "metadata": {},
   "source": [
    "### Training the model\n",
    "\n",
    "This block of code is where we run the training of the model. It is only a few lines of code, because most of what happens in training is handled behind the scenes by TensorFlow. \n",
    "\n",
    "There are two parameters we need to define, the `batch_size` and the number of `epochs`. The batch size defines how many data samples we process at once during training, this helps speed up training if we use a bigger batch size (but is dependent on the size of the memory of our computer). Using a higher batch size generally leads to better results training, as the weights are updated based on the loss of the whole batch, which leads to more stable training than if we were to update the weights after each single example. Training in batches is a form of *regularisation* - something that will come up again and again with different tricks for getting the best performance out of training. \n",
    "\n",
    "The number of `epochs` defines how many iterations we perform over the dataset over training. The more epochs in training we perform, the longer training is going to take, but it often (but not always) leads to better performance.\n",
    "\n",
    "In function call `model.compile` we define the loss function and the optimiser used to update the weights.\n",
    "\n",
    "In function call `model.fit` we actually perform the training of the model.\n",
    "\n",
    "**Things to try out:**\n",
    "\n",
    "- Test the training with different parameters and see how these impact the accuracy of the model:\n",
    "\n",
    "    - change the batch size and the number of epochs\n",
    "    \n",
    "    - search for different [loss functions](https://keras.io/api/losses/) and [optimizers](https://keras.io/api/optimizers/) from the Keras API reference"
   ]
  },
  {
   "cell_type": "code",
   "execution_count": 4,
   "metadata": {},
   "outputs": [
    {
     "name": "stdout",
     "output_type": "stream",
     "text": [
      "Epoch 1/10\n"
     ]
    },
    {
     "name": "stderr",
     "output_type": "stream",
     "text": [
      "2023-02-13 16:29:38.357182: W tensorflow/tsl/platform/profile_utils/cpu_utils.cc:128] Failed to get CPU frequency: 0 Hz\n"
     ]
    },
    {
     "name": "stdout",
     "output_type": "stream",
     "text": [
      "213/213 [==============================] - 8s 35ms/step - loss: 0.4822 - accuracy: 0.8585 - val_loss: 0.1074 - val_accuracy: 0.9725\n",
      "Epoch 2/10\n",
      "213/213 [==============================] - 8s 35ms/step - loss: 0.1412 - accuracy: 0.9571 - val_loss: 0.0730 - val_accuracy: 0.9800\n",
      "Epoch 3/10\n",
      "213/213 [==============================] - 8s 35ms/step - loss: 0.1048 - accuracy: 0.9677 - val_loss: 0.0595 - val_accuracy: 0.9842\n",
      "Epoch 4/10\n",
      "213/213 [==============================] - 7s 34ms/step - loss: 0.0876 - accuracy: 0.9735 - val_loss: 0.0496 - val_accuracy: 0.9873\n",
      "Epoch 5/10\n",
      "213/213 [==============================] - 7s 33ms/step - loss: 0.0769 - accuracy: 0.9768 - val_loss: 0.0452 - val_accuracy: 0.9890\n",
      "Epoch 6/10\n",
      "213/213 [==============================] - 7s 33ms/step - loss: 0.0689 - accuracy: 0.9790 - val_loss: 0.0411 - val_accuracy: 0.9900\n",
      "Epoch 7/10\n",
      "213/213 [==============================] - 7s 35ms/step - loss: 0.0618 - accuracy: 0.9809 - val_loss: 0.0387 - val_accuracy: 0.9897\n",
      "Epoch 8/10\n",
      "213/213 [==============================] - 8s 38ms/step - loss: 0.0569 - accuracy: 0.9824 - val_loss: 0.0347 - val_accuracy: 0.9910\n",
      "Epoch 9/10\n",
      "213/213 [==============================] - 8s 39ms/step - loss: 0.0533 - accuracy: 0.9834 - val_loss: 0.0377 - val_accuracy: 0.9898\n",
      "Epoch 10/10\n",
      "213/213 [==============================] - 8s 37ms/step - loss: 0.0494 - accuracy: 0.9844 - val_loss: 0.0348 - val_accuracy: 0.9910\n"
     ]
    },
    {
     "data": {
      "text/plain": [
       "<keras.callbacks.History at 0x166f41600>"
      ]
     },
     "execution_count": 4,
     "metadata": {},
     "output_type": "execute_result"
    }
   ],
   "source": [
    "batch_size = 254\n",
    "epochs = 10\n",
    "\n",
    "# Here we are defining the loss function and the optimiser used for training.\n",
    "model.compile(loss=\"categorical_crossentropy\", optimizer=\"adam\", metrics=[\"accuracy\"])\n",
    "\n",
    "#Here we call the function that performs training, this will train for the number of epochs we have defined.\n",
    "model.fit(x_train, y_train, batch_size=batch_size, epochs=epochs, validation_split=0.1)"
   ]
  },
  {
   "cell_type": "markdown",
   "metadata": {},
   "source": [
    "### Evaluating the model\n",
    "\n",
    "This next cell is where we evaluate the model. We take our trained model and test it against the test dataset. This will give us an overall accuracy score used to assess the model. "
   ]
  },
  {
   "cell_type": "code",
   "execution_count": 5,
   "metadata": {},
   "outputs": [
    {
     "name": "stdout",
     "output_type": "stream",
     "text": [
      "Test loss: 0.0323789119720459\n",
      "Test accuracy: 0.9886999726295471\n"
     ]
    }
   ],
   "source": [
    "score = model.evaluate(x_test, y_test, verbose=0)\n",
    "print(\"Test loss:\", score[0])\n",
    "print(\"Test accuracy:\", score[1])"
   ]
  },
  {
   "cell_type": "markdown",
   "metadata": {},
   "source": [
    "### Testing the model with an actual input image\n",
    "\n",
    "Here we load a test image to see if it classifies it correctly."
   ]
  },
  {
   "cell_type": "code",
   "execution_count": 7,
   "metadata": {},
   "outputs": [
    {
     "name": "stdout",
     "output_type": "stream",
     "text": [
      "(28, 28, 1)\n",
      "[[1.6720923e-16 4.2203160e-13 1.3659815e-10 1.0000000e+00 9.1115963e-17\n",
      "  1.8410420e-09 6.5809466e-14 5.6228470e-13 4.0036013e-10 7.1743111e-11]]\n"
     ]
    },
    {
     "data": {
      "text/plain": [
       "<matplotlib.image.AxesImage at 0x15897c520>"
      ]
     },
     "execution_count": 7,
     "metadata": {},
     "output_type": "execute_result"
    },
    {
     "data": {
      "image/png": "[encoded data removed]",
      "text/plain": [
       "<Figure size 640x480 with 1 Axes>"
      ]
     },
     "metadata": {},
     "output_type": "display_data"
    }
   ],
   "source": [
    "from tensorflow.keras.preprocessing import image\n",
    "import matplotlib.pyplot as plt\n",
    "\n",
    "img = image.load_img('./images/number3.png', target_size=(28, 28), color_mode='grayscale')\n",
    "x = image.img_to_array(img)/255\n",
    "print(x.shape)\n",
    "x = np.expand_dims(x, 0)\n",
    "predictions = model.predict(x, verbose=False)\n",
    "print(predictions)\n",
    "predicted = np.argmax(predictions)\n",
    "plt.figure()\n",
    "plt.title('Predicted number: ' + str(predicted))\n",
    "plt.imshow(img, cmap='gray')"
   ]
  },
  {
   "cell_type": "markdown",
   "metadata": {},
   "source": [
    "### Saving the model\n",
    "\n",
    "This is where we save the trained model in the models folder to use it in the next notebook for more creative experimentations."
   ]
  },
  {
   "cell_type": "code",
   "execution_count": 10,
   "metadata": {},
   "outputs": [],
   "source": [
    "model.save('./models/basic_mnist.h5')"
   ]
  },
  {
   "cell_type": "code",
   "execution_count": null,
   "metadata": {},
   "outputs": [],
   "source": []
  }
 ],
 "metadata": {
  "kernelspec": {
   "display_name": "base",
   "language": "python",
   "name": "python3"
  },
  "language_info": {
   "codemirror_mode": {
    "name": "ipython",
    "version": 3
   },
   "file_extension": ".py",
   "mimetype": "text/x-python",
   "name": "python",
   "nbconvert_exporter": "python",
   "pygments_lexer": "ipython3",
   "version": "3.10.8"
  },
  "vscode": {
   "interpreter": {
    "hash": "1c544d3133b9d8c6f36fca025551af31afa9ef134259e7064ad6be0c15e6401c"
   }
  }
 },
 "nbformat": 4,
 "nbformat_minor": 2
}
